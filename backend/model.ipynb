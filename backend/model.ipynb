{
  "nbformat": 4,
  "nbformat_minor": 0,
  "metadata": {
    "colab": {
      "provenance": []
    },
    "kernelspec": {
      "name": "python3",
      "display_name": "Python 3"
    },
    "language_info": {
      "name": "python"
    }
  },
  "cells": [
    {
      "cell_type": "code",
      "source": [
        "import pandas as pd\n",
        "import numpy as np\n",
        "import tensorflow as tf\n",
        "import pickle  # ✅ Added to save model as a pickle file\n",
        "from tensorflow.keras.models import Sequential\n",
        "from tensorflow.keras.layers import LSTM, Dense, Dropout, BatchNormalization\n",
        "from tensorflow.keras.optimizers import Adam\n",
        "from sklearn.preprocessing import MinMaxScaler\n",
        "import os\n",
        "\n",
        "# ✅ Enable Mixed Precision Training for Speed (GPU)\n",
        "tf.keras.mixed_precision.set_global_policy(\"mixed_float16\")\n",
        "\n",
        "# ✅ Load Training & Testing Data\n",
        "df_train = pd.read_csv(\"train.csv\", dtype=str, low_memory=False)\n",
        "df_test = pd.read_csv(\"test.csv\", dtype=str, low_memory=False)\n",
        "\n",
        "df_train['time'] = pd.to_datetime(df_train['time'], format=\"%H:%M:%S\", errors=\"coerce\")\n",
        "df_test['time'] = pd.to_datetime(df_test['time'], format=\"%H:%M:%S\", errors=\"coerce\")\n",
        "\n",
        "# ✅ Select Glucose-Related Columns (Ensuring Consistency)\n",
        "bg_columns = [col for col in df_train.columns[1:] if \"bg\" in col and col in df_test.columns]\n",
        "                                                                # ✅ Check if column exists in df_test\n",
        "\n",
        "# ✅ Convert Glucose Data to Numeric\n",
        "df_train[bg_columns] = df_train[bg_columns].apply(pd.to_numeric, errors=\"coerce\")\n",
        "df_test[bg_columns] = df_test[bg_columns].apply(pd.to_numeric, errors=\"coerce\")\n",
        "\n",
        "# ✅ Handle Missing Values (Forward & Backward Fill)\n",
        "df_train[bg_columns] = df_train[bg_columns].ffill().bfill()\n",
        "df_test[bg_columns] = df_test[bg_columns].ffill().bfill()\n",
        "\n",
        "# ✅ Normalize Training & Testing Data (Avoiding Data Leakage)\n",
        "scaler = MinMaxScaler()\n",
        "scaler.fit(df_train[bg_columns])  # ✅ Fit only on training data\n",
        "\n",
        "df_train[bg_columns] = scaler.transform(df_train[bg_columns])\n",
        "df_test[bg_columns] = scaler.transform(df_test[bg_columns])\n",
        "\n",
        "# ✅ Save Scaler for Future Use\n",
        "with open(\"backend/scaler.pkl\", \"wb\") as f:\n",
        "    pickle.dump(scaler, f)\n",
        "\n",
        "# ✅ Convert Data to Sequences (Time-Series Format for LSTM)\n",
        "def create_sequences(data, seq_length=10):\n",
        "    X, y = [], []\n",
        "    for i in range(len(data) - seq_length):\n",
        "        X.append(data.iloc[i:i+seq_length].values)\n",
        "        y.append(data.iloc[i+seq_length].values)\n",
        "    return np.array(X, dtype=np.float32), np.array(y, dtype=np.float32)\n",
        "\n",
        "X_train, y_train = create_sequences(df_train[bg_columns])\n",
        "X_test, y_test = create_sequences(df_test[bg_columns])\n",
        "\n",
        "# ✅ Define Optimized LSTM Model\n",
        "model = Sequential([\n",
        "    LSTM(64, return_sequences=True, input_shape=(10, len(bg_columns))),\n",
        "    BatchNormalization(),\n",
        "    Dropout(0.2),\n",
        "\n",
        "    LSTM(32, return_sequences=False),\n",
        "    Dropout(0.2),\n",
        "\n",
        "    Dense(len(bg_columns), dtype=tf.float32)  # ✅ Output is float32\n",
        "])\n",
        "\n",
        "optimizer = Adam(learning_rate=0.001)\n",
        "\n",
        "# ✅ Compile Model outside the tf.function\n",
        "model.compile(optimizer=optimizer, loss=\"mse\") # Moved outside tf.function\n",
        "\n",
        "# ✅ Train Model\n",
        "model.fit(X_train, y_train, epochs=15, batch_size=128, validation_data=(X_test, y_test), verbose=1)\n",
        "\n",
        "# ✅ Ensure backend directory exists\n",
        "os.makedirs(\"backend\", exist_ok=True)\n",
        "\n",
        "# ✅ Save Model in H5 Format\n",
        "model.save(\"backend/glucose_model.h5\", save_format=\"h5\")\n",
        "\n",
        "# ✅ Save Model in Pickle Format\n",
        "with open(\"backend/glucose_model.pkl\", \"wb\") as f:\n",
        "    pickle.dump(model, f)\n",
        "\n",
        "print(\"✅ Model Training Completed! Saved to 'backend/glucose_model.h5' and 'backend/glucose_model.pkl'\")\n"
      ],
      "metadata": {
        "colab": {
          "base_uri": "https://localhost:8080/"
        },
        "id": "0Y4TvAMGDrTS",
        "outputId": "1b530bc9-15ac-4062-9a01-bf9e0be576cd"
      },
      "execution_count": 11,
      "outputs": [
        {
          "output_type": "stream",
          "name": "stderr",
          "text": [
            "/usr/local/lib/python3.11/dist-packages/keras/src/layers/rnn/rnn.py:200: UserWarning: Do not pass an `input_shape`/`input_dim` argument to a layer. When using Sequential models, prefer using an `Input(shape)` object as the first layer in the model instead.\n",
            "  super().__init__(**kwargs)\n"
          ]
        },
        {
          "output_type": "stream",
          "name": "stdout",
          "text": [
            "Epoch 1/15\n",
            "\u001b[1m1383/1383\u001b[0m \u001b[32m━━━━━━━━━━━━━━━━━━━━\u001b[0m\u001b[37m\u001b[0m \u001b[1m93s\u001b[0m 63ms/step - loss: 0.0163 - val_loss: 0.0189\n",
            "Epoch 2/15\n",
            "\u001b[1m1383/1383\u001b[0m \u001b[32m━━━━━━━━━━━━━━━━━━━━\u001b[0m\u001b[37m\u001b[0m \u001b[1m150s\u001b[0m 69ms/step - loss: 0.0025 - val_loss: 0.0187\n",
            "Epoch 3/15\n",
            "\u001b[1m1383/1383\u001b[0m \u001b[32m━━━━━━━━━━━━━━━━━━━━\u001b[0m\u001b[37m\u001b[0m \u001b[1m87s\u001b[0m 63ms/step - loss: 0.0020 - val_loss: 0.0189\n",
            "Epoch 4/15\n",
            "\u001b[1m1383/1383\u001b[0m \u001b[32m━━━━━━━━━━━━━━━━━━━━\u001b[0m\u001b[37m\u001b[0m \u001b[1m141s\u001b[0m 63ms/step - loss: 0.0019 - val_loss: 0.0187\n",
            "Epoch 5/15\n",
            "\u001b[1m1383/1383\u001b[0m \u001b[32m━━━━━━━━━━━━━━━━━━━━\u001b[0m\u001b[37m\u001b[0m \u001b[1m141s\u001b[0m 62ms/step - loss: 0.0019 - val_loss: 0.0186\n",
            "Epoch 6/15\n",
            "\u001b[1m1383/1383\u001b[0m \u001b[32m━━━━━━━━━━━━━━━━━━━━\u001b[0m\u001b[37m\u001b[0m \u001b[1m143s\u001b[0m 63ms/step - loss: 0.0019 - val_loss: 0.0186\n",
            "Epoch 7/15\n",
            "\u001b[1m1383/1383\u001b[0m \u001b[32m━━━━━━━━━━━━━━━━━━━━\u001b[0m\u001b[37m\u001b[0m \u001b[1m86s\u001b[0m 62ms/step - loss: 0.0019 - val_loss: 0.0186\n",
            "Epoch 8/15\n",
            "\u001b[1m1383/1383\u001b[0m \u001b[32m━━━━━━━━━━━━━━━━━━━━\u001b[0m\u001b[37m\u001b[0m \u001b[1m87s\u001b[0m 63ms/step - loss: 0.0018 - val_loss: 0.0187\n",
            "Epoch 9/15\n",
            "\u001b[1m1383/1383\u001b[0m \u001b[32m━━━━━━━━━━━━━━━━━━━━\u001b[0m\u001b[37m\u001b[0m \u001b[1m86s\u001b[0m 62ms/step - loss: 0.0018 - val_loss: 0.0185\n",
            "Epoch 10/15\n",
            "\u001b[1m1383/1383\u001b[0m \u001b[32m━━━━━━━━━━━━━━━━━━━━\u001b[0m\u001b[37m\u001b[0m \u001b[1m89s\u001b[0m 64ms/step - loss: 0.0018 - val_loss: 0.0184\n",
            "Epoch 11/15\n",
            "\u001b[1m1383/1383\u001b[0m \u001b[32m━━━━━━━━━━━━━━━━━━━━\u001b[0m\u001b[37m\u001b[0m \u001b[1m140s\u001b[0m 63ms/step - loss: 0.0018 - val_loss: 0.0184\n",
            "Epoch 12/15\n",
            "\u001b[1m1383/1383\u001b[0m \u001b[32m━━━━━━━━━━━━━━━━━━━━\u001b[0m\u001b[37m\u001b[0m \u001b[1m143s\u001b[0m 64ms/step - loss: 0.0018 - val_loss: 0.0184\n",
            "Epoch 13/15\n",
            "\u001b[1m1383/1383\u001b[0m \u001b[32m━━━━━━━━━━━━━━━━━━━━\u001b[0m\u001b[37m\u001b[0m \u001b[1m139s\u001b[0m 62ms/step - loss: 0.0018 - val_loss: 0.0184\n",
            "Epoch 14/15\n",
            "\u001b[1m1383/1383\u001b[0m \u001b[32m━━━━━━━━━━━━━━━━━━━━\u001b[0m\u001b[37m\u001b[0m \u001b[1m86s\u001b[0m 62ms/step - loss: 0.0018 - val_loss: 0.0183\n",
            "Epoch 15/15\n",
            "\u001b[1m1383/1383\u001b[0m \u001b[32m━━━━━━━━━━━━━━━━━━━━\u001b[0m\u001b[37m\u001b[0m \u001b[1m144s\u001b[0m 63ms/step - loss: 0.0018 - val_loss: 0.0184\n"
          ]
        },
        {
          "output_type": "stream",
          "name": "stderr",
          "text": [
            "WARNING:absl:The `save_format` argument is deprecated in Keras 3. We recommend removing this argument as it can be inferred from the file path. Received: save_format=h5\n",
            "WARNING:absl:You are saving your model as an HDF5 file via `model.save()` or `keras.saving.save_model(model)`. This file format is considered legacy. We recommend using instead the native Keras format, e.g. `model.save('my_model.keras')` or `keras.saving.save_model(model, 'my_model.keras')`. \n"
          ]
        },
        {
          "output_type": "stream",
          "name": "stdout",
          "text": [
            "✅ Model Training Completed! Saved to 'backend/glucose_model.h5' and 'backend/glucose_model.pkl'\n"
          ]
        }
      ]
    }
  ]
}